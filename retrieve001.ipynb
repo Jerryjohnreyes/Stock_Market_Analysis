{
 "cells": [
  {
   "cell_type": "markdown",
   "metadata": {},
   "source": [
    "## First Analysis of the data\n",
    "This notebook is going to give a brief analysis of the initial data from ```https://financialmodelingprep.com```.  \n",
    "Apple it is gooing to be analyzed, the current code if **AAPL**"
   ]
  },
  {
   "cell_type": "code",
   "execution_count": 2,
   "metadata": {},
   "outputs": [],
   "source": [
    "import requests, json"
   ]
  },
  {
   "cell_type": "code",
   "execution_count": 3,
   "metadata": {},
   "outputs": [],
   "source": [
    "# Retrieving the enterprise value information.\n",
    "response = requests.get(\"https://financialmodelingprep.com/api/v3/enterprise-values/AAPL?limit=80&apikey=demo\")\n",
    "response_list = response.json()"
   ]
  },
  {
   "cell_type": "code",
   "execution_count": 4,
   "metadata": {},
   "outputs": [],
   "source": [
    "import pandas as pd"
   ]
  },
  {
   "cell_type": "code",
   "execution_count": 5,
   "metadata": {},
   "outputs": [
    {
     "name": "stdout",
     "output_type": "stream",
     "text": [
      "<class 'pandas.core.frame.DataFrame'>\n",
      "RangeIndex: 36 entries, 0 to 35\n",
      "Data columns (total 8 columns):\n",
      " #   Column                       Non-Null Count  Dtype  \n",
      "---  ------                       --------------  -----  \n",
      " 0   symbol                       36 non-null     object \n",
      " 1   date                         36 non-null     object \n",
      " 2   stockPrice                   36 non-null     float64\n",
      " 3   numberOfShares               36 non-null     int64  \n",
      " 4   marketCapitalization         36 non-null     float64\n",
      " 5   minusCashAndCashEquivalents  36 non-null     int64  \n",
      " 6   addTotalDebt                 36 non-null     int64  \n",
      " 7   enterpriseValue              36 non-null     float64\n",
      "dtypes: float64(3), int64(3), object(2)\n",
      "memory usage: 2.4+ KB\n"
     ]
    }
   ],
   "source": [
    "# Turn the data retireved to a dataframe\n",
    "data = pd.DataFrame(response_list)\n",
    "data.info()"
   ]
  },
  {
   "cell_type": "code",
   "execution_count": 7,
   "metadata": {},
   "outputs": [
    {
     "data": {
      "text/html": [
       "<div>\n",
       "<style scoped>\n",
       "    .dataframe tbody tr th:only-of-type {\n",
       "        vertical-align: middle;\n",
       "    }\n",
       "\n",
       "    .dataframe tbody tr th {\n",
       "        vertical-align: top;\n",
       "    }\n",
       "\n",
       "    .dataframe thead th {\n",
       "        text-align: right;\n",
       "    }\n",
       "</style>\n",
       "<table border=\"1\" class=\"dataframe\">\n",
       "  <thead>\n",
       "    <tr style=\"text-align: right;\">\n",
       "      <th></th>\n",
       "      <th>stockPrice</th>\n",
       "      <th>numberOfShares</th>\n",
       "      <th>marketCapitalization</th>\n",
       "      <th>minusCashAndCashEquivalents</th>\n",
       "      <th>addTotalDebt</th>\n",
       "      <th>enterpriseValue</th>\n",
       "    </tr>\n",
       "  </thead>\n",
       "  <tbody>\n",
       "    <tr>\n",
       "      <th>0</th>\n",
       "      <td>115.050003</td>\n",
       "      <td>17352119000</td>\n",
       "      <td>1.996361e+12</td>\n",
       "      <td>38016000000</td>\n",
       "      <td>112436000000</td>\n",
       "      <td>2.070781e+12</td>\n",
       "    </tr>\n",
       "    <tr>\n",
       "      <th>1</th>\n",
       "      <td>62.262501</td>\n",
       "      <td>18471336000</td>\n",
       "      <td>1.150072e+12</td>\n",
       "      <td>48844000000</td>\n",
       "      <td>108047000000</td>\n",
       "      <td>1.209275e+12</td>\n",
       "    </tr>\n",
       "    <tr>\n",
       "      <th>2</th>\n",
       "      <td>53.060001</td>\n",
       "      <td>19821508000</td>\n",
       "      <td>1.051729e+12</td>\n",
       "      <td>25913000000</td>\n",
       "      <td>114483000000</td>\n",
       "      <td>1.140299e+12</td>\n",
       "    </tr>\n",
       "    <tr>\n",
       "      <th>3</th>\n",
       "      <td>41.680000</td>\n",
       "      <td>20868968000</td>\n",
       "      <td>8.698186e+11</td>\n",
       "      <td>20289000000</td>\n",
       "      <td>115680000000</td>\n",
       "      <td>9.652096e+11</td>\n",
       "    </tr>\n",
       "    <tr>\n",
       "      <th>4</th>\n",
       "      <td>29.412500</td>\n",
       "      <td>21883280000</td>\n",
       "      <td>6.436420e+11</td>\n",
       "      <td>20484000000</td>\n",
       "      <td>83532000000</td>\n",
       "      <td>7.066900e+11</td>\n",
       "    </tr>\n",
       "  </tbody>\n",
       "</table>\n",
       "</div>"
      ],
      "text/plain": [
       "   stockPrice  numberOfShares  marketCapitalization  \\\n",
       "0  115.050003     17352119000          1.996361e+12   \n",
       "1   62.262501     18471336000          1.150072e+12   \n",
       "2   53.060001     19821508000          1.051729e+12   \n",
       "3   41.680000     20868968000          8.698186e+11   \n",
       "4   29.412500     21883280000          6.436420e+11   \n",
       "\n",
       "   minusCashAndCashEquivalents  addTotalDebt  enterpriseValue  \n",
       "0                  38016000000  112436000000     2.070781e+12  \n",
       "1                  48844000000  108047000000     1.209275e+12  \n",
       "2                  25913000000  114483000000     1.140299e+12  \n",
       "3                  20289000000  115680000000     9.652096e+11  \n",
       "4                  20484000000   83532000000     7.066900e+11  "
      ]
     },
     "execution_count": 7,
     "metadata": {},
     "output_type": "execute_result"
    }
   ],
   "source": [
    "data_num_variables = data[['stockPrice', 'numberOfShares', 'marketCapitalization',\n",
    "                          'minusCashAndCashEquivalents', 'addTotalDebt','enterpriseValue']]\n",
    "data_num_variables.head()"
   ]
  },
  {
   "cell_type": "code",
   "execution_count": 8,
   "metadata": {},
   "outputs": [],
   "source": [
    "import matplotlib.pyplot as plt\n",
    "import numpy as np"
   ]
  },
  {
   "cell_type": "code",
   "execution_count": 9,
   "metadata": {},
   "outputs": [
    {
     "data": {
      "text/plain": [
       "(36, 1)"
      ]
     },
     "execution_count": 9,
     "metadata": {},
     "output_type": "execute_result"
    }
   ],
   "source": [
    "# Creating an array with the numerical variables and a vector of ones.\n",
    "num_variables = np.array(data_num_variables)\n",
    "num_variables.shape\n",
    "ones = np.ones(( num_variables.shape[0] ,1), dtype=int)\n",
    "ones.shape"
   ]
  },
  {
   "cell_type": "code",
   "execution_count": 10,
   "metadata": {},
   "outputs": [
    {
     "data": {
      "text/plain": [
       "(6, 1)"
      ]
     },
     "execution_count": 10,
     "metadata": {},
     "output_type": "execute_result"
    }
   ],
   "source": [
    "# Multiplication of matrixes\n",
    "averages = np.dot(num_variables.transpose((1,0)),ones)/num_variables.shape[0]\n",
    "averages.shape"
   ]
  },
  {
   "cell_type": "code",
   "execution_count": 11,
   "metadata": {},
   "outputs": [],
   "source": [
    "# Centering machine\n",
    "centering = np.identity(num_variables.shape[0]) - (np.dot(ones, ones.transpose((1,0)))/num_variables.shape[0])"
   ]
  },
  {
   "cell_type": "code",
   "execution_count": 12,
   "metadata": {},
   "outputs": [
    {
     "data": {
      "text/plain": [
       "(6, 6)"
      ]
     },
     "execution_count": 12,
     "metadata": {},
     "output_type": "execute_result"
    }
   ],
   "source": [
    "#covariance matrix\n",
    "s = np.dot( np.dot(num_variables.transpose((1,0)),centering) ,num_variables)\n",
    "s.shape"
   ]
  },
  {
   "cell_type": "code",
   "execution_count": 13,
   "metadata": {},
   "outputs": [],
   "source": [
    "import seaborn as sns"
   ]
  },
  {
   "cell_type": "code",
   "execution_count": 14,
   "metadata": {},
   "outputs": [
    {
     "data": {
      "text/html": [
       "<div>\n",
       "<style scoped>\n",
       "    .dataframe tbody tr th:only-of-type {\n",
       "        vertical-align: middle;\n",
       "    }\n",
       "\n",
       "    .dataframe tbody tr th {\n",
       "        vertical-align: top;\n",
       "    }\n",
       "\n",
       "    .dataframe thead th {\n",
       "        text-align: right;\n",
       "    }\n",
       "</style>\n",
       "<table border=\"1\" class=\"dataframe\">\n",
       "  <thead>\n",
       "    <tr style=\"text-align: right;\">\n",
       "      <th></th>\n",
       "      <th>stockPrice</th>\n",
       "      <th>numberOfShares</th>\n",
       "      <th>marketCapitalization</th>\n",
       "      <th>minusCashAndCashEquivalents</th>\n",
       "      <th>addTotalDebt</th>\n",
       "      <th>enterpriseValue</th>\n",
       "    </tr>\n",
       "  </thead>\n",
       "  <tbody>\n",
       "    <tr>\n",
       "      <th>stockPrice</th>\n",
       "      <td>1.000000</td>\n",
       "      <td>0.220959</td>\n",
       "      <td>0.991014</td>\n",
       "      <td>0.903625</td>\n",
       "      <td>0.876885</td>\n",
       "      <td>0.990411</td>\n",
       "    </tr>\n",
       "    <tr>\n",
       "      <th>numberOfShares</th>\n",
       "      <td>0.220959</td>\n",
       "      <td>1.000000</td>\n",
       "      <td>0.308539</td>\n",
       "      <td>0.374739</td>\n",
       "      <td>0.147204</td>\n",
       "      <td>0.295768</td>\n",
       "    </tr>\n",
       "    <tr>\n",
       "      <th>marketCapitalization</th>\n",
       "      <td>0.991014</td>\n",
       "      <td>0.308539</td>\n",
       "      <td>1.000000</td>\n",
       "      <td>0.918492</td>\n",
       "      <td>0.886400</td>\n",
       "      <td>0.999359</td>\n",
       "    </tr>\n",
       "    <tr>\n",
       "      <th>minusCashAndCashEquivalents</th>\n",
       "      <td>0.903625</td>\n",
       "      <td>0.374739</td>\n",
       "      <td>0.918492</td>\n",
       "      <td>1.000000</td>\n",
       "      <td>0.877907</td>\n",
       "      <td>0.919354</td>\n",
       "    </tr>\n",
       "    <tr>\n",
       "      <th>addTotalDebt</th>\n",
       "      <td>0.876885</td>\n",
       "      <td>0.147204</td>\n",
       "      <td>0.886400</td>\n",
       "      <td>0.877907</td>\n",
       "      <td>1.000000</td>\n",
       "      <td>0.901877</td>\n",
       "    </tr>\n",
       "    <tr>\n",
       "      <th>enterpriseValue</th>\n",
       "      <td>0.990411</td>\n",
       "      <td>0.295768</td>\n",
       "      <td>0.999359</td>\n",
       "      <td>0.919354</td>\n",
       "      <td>0.901877</td>\n",
       "      <td>1.000000</td>\n",
       "    </tr>\n",
       "  </tbody>\n",
       "</table>\n",
       "</div>"
      ],
      "text/plain": [
       "                             stockPrice  numberOfShares  marketCapitalization  \\\n",
       "stockPrice                     1.000000        0.220959              0.991014   \n",
       "numberOfShares                 0.220959        1.000000              0.308539   \n",
       "marketCapitalization           0.991014        0.308539              1.000000   \n",
       "minusCashAndCashEquivalents    0.903625        0.374739              0.918492   \n",
       "addTotalDebt                   0.876885        0.147204              0.886400   \n",
       "enterpriseValue                0.990411        0.295768              0.999359   \n",
       "\n",
       "                             minusCashAndCashEquivalents  addTotalDebt  \\\n",
       "stockPrice                                      0.903625      0.876885   \n",
       "numberOfShares                                  0.374739      0.147204   \n",
       "marketCapitalization                            0.918492      0.886400   \n",
       "minusCashAndCashEquivalents                     1.000000      0.877907   \n",
       "addTotalDebt                                    0.877907      1.000000   \n",
       "enterpriseValue                                 0.919354      0.901877   \n",
       "\n",
       "                             enterpriseValue  \n",
       "stockPrice                          0.990411  \n",
       "numberOfShares                      0.295768  \n",
       "marketCapitalization                0.999359  \n",
       "minusCashAndCashEquivalents         0.919354  \n",
       "addTotalDebt                        0.901877  \n",
       "enterpriseValue                     1.000000  "
      ]
     },
     "execution_count": 14,
     "metadata": {},
     "output_type": "execute_result"
    }
   ],
   "source": [
    "# Matrix of correlation of the data\n",
    "data.corr()"
   ]
  },
  {
   "cell_type": "code",
   "execution_count": 15,
   "metadata": {},
   "outputs": [
    {
     "data": {
      "text/plain": [
       "<matplotlib.axes._subplots.AxesSubplot at 0x2430191cc88>"
      ]
     },
     "execution_count": 15,
     "metadata": {},
     "output_type": "execute_result"
    },
    {
     "data": {
      "image/png": "[encoded data removed]",
      "text/plain": [
       "<Figure size 432x288 with 2 Axes>"
      ]
     },
     "metadata": {
      "needs_background": "light"
     },
     "output_type": "display_data"
    }
   ],
   "source": [
    "sns.heatmap(data.corr(), annot=True)"
   ]
  },
  {
   "cell_type": "code",
   "execution_count": 16,
   "metadata": {},
   "outputs": [
    {
     "data": {
      "text/plain": [
       "<matplotlib.collections.PathCollection at 0x24301b028c8>"
      ]
     },
     "execution_count": 16,
     "metadata": {},
     "output_type": "execute_result"
    },
    {
     "data": {
      "image/png": "[encoded data removed]",
      "text/plain": [
       "<Figure size 432x288 with 1 Axes>"
      ]
     },
     "metadata": {
      "needs_background": "light"
     },
     "output_type": "display_data"
    }
   ],
   "source": [
    "plt.scatter(data.stockPrice, data.enterpriseValue)"
   ]
  },
  {
   "cell_type": "code",
   "execution_count": 17,
   "metadata": {},
   "outputs": [
    {
     "data": {
      "text/plain": [
       "<matplotlib.collections.PathCollection at 0x24301b6df48>"
      ]
     },
     "execution_count": 17,
     "metadata": {},
     "output_type": "execute_result"
    },
    {
     "data": {
      "image/png": "[encoded data removed]",
      "text/plain": [
       "<Figure size 432x288 with 1 Axes>"
      ]
     },
     "metadata": {
      "needs_background": "light"
     },
     "output_type": "display_data"
    }
   ],
   "source": [
    "plt.scatter(data.marketCapitalization, data.enterpriseValue)"
   ]
  },
  {
   "cell_type": "code",
   "execution_count": 18,
   "metadata": {},
   "outputs": [
    {
     "data": {
      "text/plain": [
       "<matplotlib.collections.PathCollection at 0x24301bdd308>"
      ]
     },
     "execution_count": 18,
     "metadata": {},
     "output_type": "execute_result"
    },
    {
     "data": {
      "image/png": "[encoded data removed]",
      "text/plain": [
       "<Figure size 432x288 with 1 Axes>"
      ]
     },
     "metadata": {
      "needs_background": "light"
     },
     "output_type": "display_data"
    }
   ],
   "source": [
    "plt.scatter(data.addTotalDebt, data.numberOfShares)"
   ]
  },
  {
   "cell_type": "markdown",
   "metadata": {},
   "source": [
    "For this set of data there is a clear correlation between the variables stockPrice and enterpriseValue.  \n"
   ]
  },
  {
   "cell_type": "code",
   "execution_count": 19,
   "metadata": {},
   "outputs": [
    {
     "data": {
      "text/plain": [
       "array([[5.61811023e+02, 1.09412835e+13],\n",
       "       [1.09412835e+13, 2.17227707e+23]])"
      ]
     },
     "execution_count": 19,
     "metadata": {},
     "output_type": "execute_result"
    }
   ],
   "source": [
    "np.cov(data.stockPrice, data.enterpriseValue)"
   ]
  },
  {
   "cell_type": "code",
   "execution_count": 20,
   "metadata": {},
   "outputs": [
    {
     "data": {
      "text/plain": [
       "array([[ 1.05977062e+24,  6.05073628e+23,  5.62974053e+23, ...,\n",
       "         4.37419030e+20, -1.04618260e+21, -1.40707582e+21],\n",
       "       [ 6.05073628e+23,  3.45723905e+23,  3.21758100e+23, ...,\n",
       "         2.16051311e+20, -6.29374211e+20, -8.33632282e+20],\n",
       "       [ 5.62974053e+23,  3.21758100e+23,  2.99682121e+23, ...,\n",
       "         2.06678715e+20, -5.79576817e+20, -7.68215758e+20],\n",
       "       ...,\n",
       "       [ 4.37419030e+20,  2.16051311e+20,  2.06678715e+20, ...,\n",
       "         3.18026155e+19,  3.04191991e+19,  2.89389089e+19],\n",
       "       [-1.04618260e+21, -6.29374211e+20, -5.79576817e+20, ...,\n",
       "         3.04191991e+19,  3.11345835e+19,  3.01944529e+19],\n",
       "       [-1.40707582e+21, -8.33632282e+20, -7.68215758e+20, ...,\n",
       "         2.89389089e+19,  3.01944529e+19,  2.94457050e+19]])"
      ]
     },
     "execution_count": 20,
     "metadata": {},
     "output_type": "execute_result"
    }
   ],
   "source": [
    "np.cov(data_num_variables)"
   ]
  },
  {
   "cell_type": "code",
   "execution_count": 21,
   "metadata": {},
   "outputs": [],
   "source": [
    "from scipy.stats import pearsonr\n",
    "from scipy.stats import spearmanr"
   ]
  },
  {
   "cell_type": "code",
   "execution_count": 22,
   "metadata": {},
   "outputs": [],
   "source": [
    "correlation = pearsonr(data.stockPrice, data.enterpriseValue)"
   ]
  },
  {
   "cell_type": "code",
   "execution_count": 23,
   "metadata": {},
   "outputs": [
    {
     "name": "stdout",
     "output_type": "stream",
     "text": [
      "(0.9904111808575077, 8.10947179516356e-31)\n"
     ]
    }
   ],
   "source": [
    "print(correlation)"
   ]
  },
  {
   "cell_type": "code",
   "execution_count": null,
   "metadata": {},
   "outputs": [],
   "source": []
  },
  {
   "cell_type": "code",
   "execution_count": 24,
   "metadata": {},
   "outputs": [
    {
     "name": "stdout",
     "output_type": "stream",
     "text": [
      "SpearmanrResult(correlation=0.9960743955242156, pvalue=2.1579242968397894e-37)\n"
     ]
    }
   ],
   "source": [
    "print(spearmanr(data.stockPrice, data.enterpriseValue))"
   ]
  },
  {
   "cell_type": "code",
   "execution_count": 25,
   "metadata": {},
   "outputs": [
    {
     "name": "stdout",
     "output_type": "stream",
     "text": [
      "SpearmanrResult(correlation=-0.19247743164608022, pvalue=0.2607317891713996)\n"
     ]
    }
   ],
   "source": [
    "print(spearmanr(data.addTotalDebt, data.numberOfShares))"
   ]
  },
  {
   "cell_type": "code",
   "execution_count": null,
   "metadata": {},
   "outputs": [],
   "source": []
  }
 ],
 "metadata": {
  "kernelspec": {
   "display_name": "Python 3",
   "language": "python",
   "name": "python3"
  },
  "language_info": {
   "codemirror_mode": {
    "name": "ipython",
    "version": 3
   },
   "file_extension": ".py",
   "mimetype": "text/x-python",
   "name": "python",
   "nbconvert_exporter": "python",
   "pygments_lexer": "ipython3",
   "version": "3.7.6"
  }
 },
 "nbformat": 4,
 "nbformat_minor": 4
}
